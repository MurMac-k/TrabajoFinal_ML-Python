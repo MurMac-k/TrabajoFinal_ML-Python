{
 "cells": [
  {
   "cell_type": "markdown",
   "id": "23fdb4ee",
   "metadata": {},
   "source": [
    "# Práctica Python + ML"
   ]
  },
  {
   "cell_type": "markdown",
   "id": "eace9164",
   "metadata": {},
   "source": [
    "Tarea a realizar:\n",
    "1. Predecir el precio de los diamantes como una nueva variable continua.\n",
    "2. Predecir el precio de los diamantes en 4 categorías: barato, normal, caro, muy caro.\n",
    "3. Predecir el corte de los diamantes"
   ]
  },
  {
   "cell_type": "code",
   "execution_count": 1,
   "id": "266426b1",
   "metadata": {},
   "outputs": [],
   "source": [
    "# Importamos las librerias necesarias\n",
    "import pandas as pd\n",
    "import numpy as np\n",
    "import seaborn as sns\n",
    "from sklearn.preprocessing import StandardScaler, PolynomialFeatures\n",
    "from sklearn.model_selection import train_test_split, GridSearchCV\n",
    "from sklearn.linear_model import LinearRegression, Lasso, Ridge, ElasticNet\n",
    "import matplotlib.pyplot as plt\n",
    "from sklearn.metrics import mean_squared_error, classification_report, confusion_matrix, precision_score\n",
    "from sklearn.tree import DecisionTreeRegressor, DecisionTreeClassifier\n",
    "from sklearn.svm import SVC \n",
    "from sklearn.ensemble import RandomForestClassifier\n",
    "from sklearn.neighbors import KNeighborsClassifier\n",
    "\n",
    "import warnings\n",
    "warnings.filterwarnings(\"ignore\")"
   ]
  },
  {
   "cell_type": "markdown",
   "id": "a6dd74bb",
   "metadata": {},
   "source": [
    "A continuación haremos un breve análisis exploratorio de nuestros datos, este comprende la visualización de nuestros datos iniciales, la dimensión de nuestro datos y la información de nuestras variables. "
   ]
  },
  {
   "cell_type": "code",
   "execution_count": 2,
   "id": "a3f774a9",
   "metadata": {
    "scrolled": true
   },
   "outputs": [
    {
     "data": {
      "text/html": [
       "<div>\n",
       "<style scoped>\n",
       "    .dataframe tbody tr th:only-of-type {\n",
       "        vertical-align: middle;\n",
       "    }\n",
       "\n",
       "    .dataframe tbody tr th {\n",
       "        vertical-align: top;\n",
       "    }\n",
       "\n",
       "    .dataframe thead th {\n",
       "        text-align: right;\n",
       "    }\n",
       "</style>\n",
       "<table border=\"1\" class=\"dataframe\">\n",
       "  <thead>\n",
       "    <tr style=\"text-align: right;\">\n",
       "      <th></th>\n",
       "      <th>carat</th>\n",
       "      <th>cut</th>\n",
       "      <th>color</th>\n",
       "      <th>clarity</th>\n",
       "      <th>depth</th>\n",
       "      <th>table</th>\n",
       "      <th>price</th>\n",
       "      <th>x</th>\n",
       "      <th>y</th>\n",
       "      <th>z</th>\n",
       "    </tr>\n",
       "  </thead>\n",
       "  <tbody>\n",
       "    <tr>\n",
       "      <th>1</th>\n",
       "      <td>0.23</td>\n",
       "      <td>Ideal</td>\n",
       "      <td>E</td>\n",
       "      <td>SI2</td>\n",
       "      <td>61.5</td>\n",
       "      <td>55.0</td>\n",
       "      <td>326</td>\n",
       "      <td>3.95</td>\n",
       "      <td>3.98</td>\n",
       "      <td>2.43</td>\n",
       "    </tr>\n",
       "    <tr>\n",
       "      <th>2</th>\n",
       "      <td>0.21</td>\n",
       "      <td>Premium</td>\n",
       "      <td>E</td>\n",
       "      <td>SI1</td>\n",
       "      <td>59.8</td>\n",
       "      <td>61.0</td>\n",
       "      <td>326</td>\n",
       "      <td>3.89</td>\n",
       "      <td>3.84</td>\n",
       "      <td>2.31</td>\n",
       "    </tr>\n",
       "    <tr>\n",
       "      <th>3</th>\n",
       "      <td>0.23</td>\n",
       "      <td>Good</td>\n",
       "      <td>E</td>\n",
       "      <td>VS1</td>\n",
       "      <td>56.9</td>\n",
       "      <td>65.0</td>\n",
       "      <td>327</td>\n",
       "      <td>4.05</td>\n",
       "      <td>4.07</td>\n",
       "      <td>2.31</td>\n",
       "    </tr>\n",
       "    <tr>\n",
       "      <th>4</th>\n",
       "      <td>0.29</td>\n",
       "      <td>Premium</td>\n",
       "      <td>I</td>\n",
       "      <td>VS2</td>\n",
       "      <td>62.4</td>\n",
       "      <td>58.0</td>\n",
       "      <td>334</td>\n",
       "      <td>4.20</td>\n",
       "      <td>4.23</td>\n",
       "      <td>2.63</td>\n",
       "    </tr>\n",
       "    <tr>\n",
       "      <th>5</th>\n",
       "      <td>0.31</td>\n",
       "      <td>Good</td>\n",
       "      <td>J</td>\n",
       "      <td>SI2</td>\n",
       "      <td>63.3</td>\n",
       "      <td>58.0</td>\n",
       "      <td>335</td>\n",
       "      <td>4.34</td>\n",
       "      <td>4.35</td>\n",
       "      <td>2.75</td>\n",
       "    </tr>\n",
       "  </tbody>\n",
       "</table>\n",
       "</div>"
      ],
      "text/plain": [
       "   carat      cut color clarity  depth  table  price     x     y     z\n",
       "1   0.23    Ideal     E     SI2   61.5   55.0    326  3.95  3.98  2.43\n",
       "2   0.21  Premium     E     SI1   59.8   61.0    326  3.89  3.84  2.31\n",
       "3   0.23     Good     E     VS1   56.9   65.0    327  4.05  4.07  2.31\n",
       "4   0.29  Premium     I     VS2   62.4   58.0    334  4.20  4.23  2.63\n",
       "5   0.31     Good     J     SI2   63.3   58.0    335  4.34  4.35  2.75"
      ]
     },
     "execution_count": 2,
     "metadata": {},
     "output_type": "execute_result"
    }
   ],
   "source": [
    "# Cargamos los datos y visualizamos como es el dataset\n",
    "df = pd.read_csv('data/diamonds.csv', index_col=0) \n",
    "df.head()"
   ]
  },
  {
   "cell_type": "code",
   "execution_count": 3,
   "id": "b6e6b906",
   "metadata": {},
   "outputs": [
    {
     "name": "stdout",
     "output_type": "stream",
     "text": [
      "Observaciones:  53940\n",
      "Características:  10\n"
     ]
    }
   ],
   "source": [
    "print(\"Observaciones: \", df.shape[0])\n",
    "print(\"Características: \", df.shape[1])"
   ]
  },
  {
   "cell_type": "code",
   "execution_count": 4,
   "id": "d27d4d3d",
   "metadata": {},
   "outputs": [
    {
     "name": "stdout",
     "output_type": "stream",
     "text": [
      "<class 'pandas.core.frame.DataFrame'>\n",
      "Int64Index: 53940 entries, 1 to 53940\n",
      "Data columns (total 10 columns):\n",
      " #   Column   Non-Null Count  Dtype  \n",
      "---  ------   --------------  -----  \n",
      " 0   carat    53940 non-null  float64\n",
      " 1   cut      53940 non-null  object \n",
      " 2   color    53940 non-null  object \n",
      " 3   clarity  53940 non-null  object \n",
      " 4   depth    53940 non-null  float64\n",
      " 5   table    53940 non-null  float64\n",
      " 6   price    53940 non-null  int64  \n",
      " 7   x        53940 non-null  float64\n",
      " 8   y        53940 non-null  float64\n",
      " 9   z        53940 non-null  float64\n",
      "dtypes: float64(6), int64(1), object(3)\n",
      "memory usage: 4.5+ MB\n"
     ]
    }
   ],
   "source": [
    "# En primer lugar observemos los tipos de datos que contiene el dataset\n",
    "df.info()"
   ]
  },
  {
   "cell_type": "markdown",
   "id": "542fe417",
   "metadata": {},
   "source": [
    "Breve descripción de nuestros datos:\n",
    "\n",
    "- carat: peso del diamante.\n",
    "- cut: calidad del corte.\n",
    "- color: color del diamante.\n",
    "- clarity: mide la claridad  del diamante.\n",
    "- depth: porcentaje de longitud total.\n",
    "- table: anchura del diamante superior en relación con el punto más ancho.\n",
    "- price: precio en dólar americano.\n",
    "- x: longitud en mm.\n",
    "- y: anchura en mm.\n",
    "- z: profundidad en mm."
   ]
  },
  {
   "cell_type": "markdown",
   "id": "754d7912",
   "metadata": {},
   "source": [
    "En el paso siguiente vamos a generar una nueva columna categórica para el precio, ya que la necesitaremos posteriormente para el segundo ejercicio."
   ]
  },
  {
   "cell_type": "code",
   "execution_count": 5,
   "id": "fb87c543",
   "metadata": {},
   "outputs": [
    {
     "data": {
      "text/html": [
       "<div>\n",
       "<style scoped>\n",
       "    .dataframe tbody tr th:only-of-type {\n",
       "        vertical-align: middle;\n",
       "    }\n",
       "\n",
       "    .dataframe tbody tr th {\n",
       "        vertical-align: top;\n",
       "    }\n",
       "\n",
       "    .dataframe thead th {\n",
       "        text-align: right;\n",
       "    }\n",
       "</style>\n",
       "<table border=\"1\" class=\"dataframe\">\n",
       "  <thead>\n",
       "    <tr style=\"text-align: right;\">\n",
       "      <th></th>\n",
       "      <th>carat</th>\n",
       "      <th>cut</th>\n",
       "      <th>color</th>\n",
       "      <th>clarity</th>\n",
       "      <th>depth</th>\n",
       "      <th>table</th>\n",
       "      <th>price</th>\n",
       "      <th>x</th>\n",
       "      <th>y</th>\n",
       "      <th>z</th>\n",
       "      <th>price_cat</th>\n",
       "    </tr>\n",
       "  </thead>\n",
       "  <tbody>\n",
       "    <tr>\n",
       "      <th>1</th>\n",
       "      <td>0.23</td>\n",
       "      <td>Ideal</td>\n",
       "      <td>E</td>\n",
       "      <td>SI2</td>\n",
       "      <td>61.5</td>\n",
       "      <td>55.0</td>\n",
       "      <td>326</td>\n",
       "      <td>3.95</td>\n",
       "      <td>3.98</td>\n",
       "      <td>2.43</td>\n",
       "      <td>barato</td>\n",
       "    </tr>\n",
       "    <tr>\n",
       "      <th>2</th>\n",
       "      <td>0.21</td>\n",
       "      <td>Premium</td>\n",
       "      <td>E</td>\n",
       "      <td>SI1</td>\n",
       "      <td>59.8</td>\n",
       "      <td>61.0</td>\n",
       "      <td>326</td>\n",
       "      <td>3.89</td>\n",
       "      <td>3.84</td>\n",
       "      <td>2.31</td>\n",
       "      <td>barato</td>\n",
       "    </tr>\n",
       "    <tr>\n",
       "      <th>3</th>\n",
       "      <td>0.23</td>\n",
       "      <td>Good</td>\n",
       "      <td>E</td>\n",
       "      <td>VS1</td>\n",
       "      <td>56.9</td>\n",
       "      <td>65.0</td>\n",
       "      <td>327</td>\n",
       "      <td>4.05</td>\n",
       "      <td>4.07</td>\n",
       "      <td>2.31</td>\n",
       "      <td>barato</td>\n",
       "    </tr>\n",
       "    <tr>\n",
       "      <th>4</th>\n",
       "      <td>0.29</td>\n",
       "      <td>Premium</td>\n",
       "      <td>I</td>\n",
       "      <td>VS2</td>\n",
       "      <td>62.4</td>\n",
       "      <td>58.0</td>\n",
       "      <td>334</td>\n",
       "      <td>4.20</td>\n",
       "      <td>4.23</td>\n",
       "      <td>2.63</td>\n",
       "      <td>barato</td>\n",
       "    </tr>\n",
       "    <tr>\n",
       "      <th>5</th>\n",
       "      <td>0.31</td>\n",
       "      <td>Good</td>\n",
       "      <td>J</td>\n",
       "      <td>SI2</td>\n",
       "      <td>63.3</td>\n",
       "      <td>58.0</td>\n",
       "      <td>335</td>\n",
       "      <td>4.34</td>\n",
       "      <td>4.35</td>\n",
       "      <td>2.75</td>\n",
       "      <td>barato</td>\n",
       "    </tr>\n",
       "  </tbody>\n",
       "</table>\n",
       "</div>"
      ],
      "text/plain": [
       "   carat      cut color clarity  depth  table  price     x     y     z  \\\n",
       "1   0.23    Ideal     E     SI2   61.5   55.0    326  3.95  3.98  2.43   \n",
       "2   0.21  Premium     E     SI1   59.8   61.0    326  3.89  3.84  2.31   \n",
       "3   0.23     Good     E     VS1   56.9   65.0    327  4.05  4.07  2.31   \n",
       "4   0.29  Premium     I     VS2   62.4   58.0    334  4.20  4.23  2.63   \n",
       "5   0.31     Good     J     SI2   63.3   58.0    335  4.34  4.35  2.75   \n",
       "\n",
       "  price_cat  \n",
       "1    barato  \n",
       "2    barato  \n",
       "3    barato  \n",
       "4    barato  \n",
       "5    barato  "
      ]
     },
     "execution_count": 5,
     "metadata": {},
     "output_type": "execute_result"
    }
   ],
   "source": [
    "bins = (0,1000,2500,5500, np.inf)\n",
    "labels=(\"barato\", \"normal\", \"caro\", \"muy caro\")\n",
    "price_cat = pd.cut(df[\"price\"], bins=bins, labels=labels)\n",
    "df=pd.concat((df,price_cat), axis=1)\n",
    "df.columns = ['carat', 'cut','color', 'clarity','depth', 'table', 'price', 'x', 'y', 'z', \n",
    "        'price_cat']\n",
    "df.head()"
   ]
  },
  {
   "cell_type": "markdown",
   "id": "d2d14f60",
   "metadata": {},
   "source": [
    "Podemos observar que nuestros datos contienen variables continuas y variables categóricas, hacemos un breve análisis de estos datos: \n",
    "\n",
    "    - Análisis y preprocesado de variables continuas.\n",
    "    - Análisis y preprocesado de variables categóricas.\n",
    "    \n",
    "*Nota: Vamos a separar las variables continuas y categóricas de nuestros datos originales, es decir, no incluiremos la variable `price_cat` que hemos creado."
   ]
  },
  {
   "cell_type": "code",
   "execution_count": 6,
   "id": "b9dbc54a",
   "metadata": {},
   "outputs": [],
   "source": [
    "cont = [\"carat\", \"depth\", \"table\", \"x\", \"y\", \"z\", \"price\"]\n",
    "cat = [\"cut\", \"color\", \"clarity\"]"
   ]
  },
  {
   "cell_type": "markdown",
   "id": "45ff3745",
   "metadata": {},
   "source": [
    "### Análisis de varibles numéricas"
   ]
  },
  {
   "cell_type": "code",
   "execution_count": 7,
   "id": "979ce9a6",
   "metadata": {},
   "outputs": [
    {
     "data": {
      "text/html": [
       "<div>\n",
       "<style scoped>\n",
       "    .dataframe tbody tr th:only-of-type {\n",
       "        vertical-align: middle;\n",
       "    }\n",
       "\n",
       "    .dataframe tbody tr th {\n",
       "        vertical-align: top;\n",
       "    }\n",
       "\n",
       "    .dataframe thead th {\n",
       "        text-align: right;\n",
       "    }\n",
       "</style>\n",
       "<table border=\"1\" class=\"dataframe\">\n",
       "  <thead>\n",
       "    <tr style=\"text-align: right;\">\n",
       "      <th></th>\n",
       "      <th>carat</th>\n",
       "      <th>depth</th>\n",
       "      <th>table</th>\n",
       "      <th>price</th>\n",
       "      <th>x</th>\n",
       "      <th>y</th>\n",
       "      <th>z</th>\n",
       "    </tr>\n",
       "  </thead>\n",
       "  <tbody>\n",
       "    <tr>\n",
       "      <th>count</th>\n",
       "      <td>53940.000000</td>\n",
       "      <td>53940.000000</td>\n",
       "      <td>53940.000000</td>\n",
       "      <td>53940.000000</td>\n",
       "      <td>53940.000000</td>\n",
       "      <td>53940.000000</td>\n",
       "      <td>53940.000000</td>\n",
       "    </tr>\n",
       "    <tr>\n",
       "      <th>mean</th>\n",
       "      <td>0.797940</td>\n",
       "      <td>61.749405</td>\n",
       "      <td>57.457184</td>\n",
       "      <td>3932.799722</td>\n",
       "      <td>5.731157</td>\n",
       "      <td>5.734526</td>\n",
       "      <td>3.538734</td>\n",
       "    </tr>\n",
       "    <tr>\n",
       "      <th>std</th>\n",
       "      <td>0.474011</td>\n",
       "      <td>1.432621</td>\n",
       "      <td>2.234491</td>\n",
       "      <td>3989.439738</td>\n",
       "      <td>1.121761</td>\n",
       "      <td>1.142135</td>\n",
       "      <td>0.705699</td>\n",
       "    </tr>\n",
       "    <tr>\n",
       "      <th>min</th>\n",
       "      <td>0.200000</td>\n",
       "      <td>43.000000</td>\n",
       "      <td>43.000000</td>\n",
       "      <td>326.000000</td>\n",
       "      <td>0.000000</td>\n",
       "      <td>0.000000</td>\n",
       "      <td>0.000000</td>\n",
       "    </tr>\n",
       "    <tr>\n",
       "      <th>25%</th>\n",
       "      <td>0.400000</td>\n",
       "      <td>61.000000</td>\n",
       "      <td>56.000000</td>\n",
       "      <td>950.000000</td>\n",
       "      <td>4.710000</td>\n",
       "      <td>4.720000</td>\n",
       "      <td>2.910000</td>\n",
       "    </tr>\n",
       "    <tr>\n",
       "      <th>50%</th>\n",
       "      <td>0.700000</td>\n",
       "      <td>61.800000</td>\n",
       "      <td>57.000000</td>\n",
       "      <td>2401.000000</td>\n",
       "      <td>5.700000</td>\n",
       "      <td>5.710000</td>\n",
       "      <td>3.530000</td>\n",
       "    </tr>\n",
       "    <tr>\n",
       "      <th>75%</th>\n",
       "      <td>1.040000</td>\n",
       "      <td>62.500000</td>\n",
       "      <td>59.000000</td>\n",
       "      <td>5324.250000</td>\n",
       "      <td>6.540000</td>\n",
       "      <td>6.540000</td>\n",
       "      <td>4.040000</td>\n",
       "    </tr>\n",
       "    <tr>\n",
       "      <th>max</th>\n",
       "      <td>5.010000</td>\n",
       "      <td>79.000000</td>\n",
       "      <td>95.000000</td>\n",
       "      <td>18823.000000</td>\n",
       "      <td>10.740000</td>\n",
       "      <td>58.900000</td>\n",
       "      <td>31.800000</td>\n",
       "    </tr>\n",
       "  </tbody>\n",
       "</table>\n",
       "</div>"
      ],
      "text/plain": [
       "              carat         depth         table         price             x  \\\n",
       "count  53940.000000  53940.000000  53940.000000  53940.000000  53940.000000   \n",
       "mean       0.797940     61.749405     57.457184   3932.799722      5.731157   \n",
       "std        0.474011      1.432621      2.234491   3989.439738      1.121761   \n",
       "min        0.200000     43.000000     43.000000    326.000000      0.000000   \n",
       "25%        0.400000     61.000000     56.000000    950.000000      4.710000   \n",
       "50%        0.700000     61.800000     57.000000   2401.000000      5.700000   \n",
       "75%        1.040000     62.500000     59.000000   5324.250000      6.540000   \n",
       "max        5.010000     79.000000     95.000000  18823.000000     10.740000   \n",
       "\n",
       "                  y             z  \n",
       "count  53940.000000  53940.000000  \n",
       "mean       5.734526      3.538734  \n",
       "std        1.142135      0.705699  \n",
       "min        0.000000      0.000000  \n",
       "25%        4.720000      2.910000  \n",
       "50%        5.710000      3.530000  \n",
       "75%        6.540000      4.040000  \n",
       "max       58.900000     31.800000  "
      ]
     },
     "execution_count": 7,
     "metadata": {},
     "output_type": "execute_result"
    }
   ],
   "source": [
    "df.describe() \n",
    "#Nos muestra los estadísticos básicos de las variables contínuas."
   ]
  },
  {
   "cell_type": "code",
   "execution_count": 8,
   "id": "1de017ad",
   "metadata": {},
   "outputs": [
    {
     "data": {
      "image/png": "[encoded data removed]",
      "text/plain": [
       "<Figure size 720x720 with 2 Axes>"
      ]
     },
     "metadata": {
      "needs_background": "light"
     },
     "output_type": "display_data"
    }
   ],
   "source": [
    "plt.figure(figsize=(10,10))\n",
    "sns.set(font_scale=1.5)\n",
    "hm = sns.heatmap(df[cont].corr(), \n",
    "                 cbar=True,annot=True, square=True, fmt='.2f',\n",
    "                 annot_kws={'size': 15})\n",
    "plt.show();"
   ]
  },
  {
   "cell_type": "markdown",
   "id": "071af18c",
   "metadata": {},
   "source": [
    "Hemos obtenido las correlaciones entre nuestras variables, se ha de tener en cuenta que tenemos problemas de multicolinealidad a partir de una correlación igual o superior a 0.7."
   ]
  },
  {
   "cell_type": "markdown",
   "id": "bf8281fb",
   "metadata": {},
   "source": [
    "### Análisis de variables categóricas"
   ]
  },
  {
   "cell_type": "code",
   "execution_count": 9,
   "id": "3970bb53",
   "metadata": {},
   "outputs": [],
   "source": [
    "# Vemos que hay algunas columnas categóricas, para transformarlas de tipo objeto a variables categóricas podemos usar el siguiente código.\n",
    "categorias = df[\"cut\"].astype('category')\n",
    "color = df[\"color\"].astype('category')\n",
    "claridad  = df[\"clarity\"].astype('category')"
   ]
  },
  {
   "cell_type": "code",
   "execution_count": 10,
   "id": "2e5448e4",
   "metadata": {},
   "outputs": [
    {
     "name": "stdout",
     "output_type": "stream",
     "text": [
      "<class 'pandas.core.frame.DataFrame'>\n",
      "Int64Index: 53940 entries, 1 to 53940\n",
      "Data columns (total 11 columns):\n",
      " #   Column     Non-Null Count  Dtype   \n",
      "---  ------     --------------  -----   \n",
      " 0   carat      53940 non-null  float64 \n",
      " 1   depth      53940 non-null  float64 \n",
      " 2   table      53940 non-null  float64 \n",
      " 3   price      53940 non-null  int64   \n",
      " 4   x          53940 non-null  float64 \n",
      " 5   y          53940 non-null  float64 \n",
      " 6   z          53940 non-null  float64 \n",
      " 7   price_cat  53940 non-null  category\n",
      " 8   cut        53940 non-null  category\n",
      " 9   color      53940 non-null  category\n",
      " 10  clarity    53940 non-null  category\n",
      "dtypes: category(4), float64(6), int64(1)\n",
      "memory usage: 3.5 MB\n"
     ]
    }
   ],
   "source": [
    "df = df.drop([\"cut\",\"color\",\"clarity\"],axis=1)\n",
    "df = pd.concat([df, categorias, color, claridad], axis=1)\n",
    "df.info()"
   ]
  },
  {
   "cell_type": "code",
   "execution_count": 11,
   "id": "642cf1ac",
   "metadata": {},
   "outputs": [
    {
     "data": {
      "text/html": [
       "<div>\n",
       "<style scoped>\n",
       "    .dataframe tbody tr th:only-of-type {\n",
       "        vertical-align: middle;\n",
       "    }\n",
       "\n",
       "    .dataframe tbody tr th {\n",
       "        vertical-align: top;\n",
       "    }\n",
       "\n",
       "    .dataframe thead th {\n",
       "        text-align: right;\n",
       "    }\n",
       "</style>\n",
       "<table border=\"1\" class=\"dataframe\">\n",
       "  <thead>\n",
       "    <tr style=\"text-align: right;\">\n",
       "      <th></th>\n",
       "      <th>carat</th>\n",
       "      <th>depth</th>\n",
       "      <th>table</th>\n",
       "      <th>price</th>\n",
       "      <th>x</th>\n",
       "      <th>y</th>\n",
       "      <th>z</th>\n",
       "      <th>price_cat</th>\n",
       "      <th>cut</th>\n",
       "      <th>color</th>\n",
       "      <th>...</th>\n",
       "      <th>col_H</th>\n",
       "      <th>col_I</th>\n",
       "      <th>col_J</th>\n",
       "      <th>clar_IF</th>\n",
       "      <th>clar_SI1</th>\n",
       "      <th>clar_SI2</th>\n",
       "      <th>clar_VS1</th>\n",
       "      <th>clar_VS2</th>\n",
       "      <th>clar_VVS1</th>\n",
       "      <th>clar_VVS2</th>\n",
       "    </tr>\n",
       "  </thead>\n",
       "  <tbody>\n",
       "    <tr>\n",
       "      <th>1</th>\n",
       "      <td>0.23</td>\n",
       "      <td>61.5</td>\n",
       "      <td>55.0</td>\n",
       "      <td>326</td>\n",
       "      <td>3.95</td>\n",
       "      <td>3.98</td>\n",
       "      <td>2.43</td>\n",
       "      <td>barato</td>\n",
       "      <td>Ideal</td>\n",
       "      <td>E</td>\n",
       "      <td>...</td>\n",
       "      <td>0</td>\n",
       "      <td>0</td>\n",
       "      <td>0</td>\n",
       "      <td>0</td>\n",
       "      <td>0</td>\n",
       "      <td>1</td>\n",
       "      <td>0</td>\n",
       "      <td>0</td>\n",
       "      <td>0</td>\n",
       "      <td>0</td>\n",
       "    </tr>\n",
       "    <tr>\n",
       "      <th>2</th>\n",
       "      <td>0.21</td>\n",
       "      <td>59.8</td>\n",
       "      <td>61.0</td>\n",
       "      <td>326</td>\n",
       "      <td>3.89</td>\n",
       "      <td>3.84</td>\n",
       "      <td>2.31</td>\n",
       "      <td>barato</td>\n",
       "      <td>Premium</td>\n",
       "      <td>E</td>\n",
       "      <td>...</td>\n",
       "      <td>0</td>\n",
       "      <td>0</td>\n",
       "      <td>0</td>\n",
       "      <td>0</td>\n",
       "      <td>1</td>\n",
       "      <td>0</td>\n",
       "      <td>0</td>\n",
       "      <td>0</td>\n",
       "      <td>0</td>\n",
       "      <td>0</td>\n",
       "    </tr>\n",
       "    <tr>\n",
       "      <th>3</th>\n",
       "      <td>0.23</td>\n",
       "      <td>56.9</td>\n",
       "      <td>65.0</td>\n",
       "      <td>327</td>\n",
       "      <td>4.05</td>\n",
       "      <td>4.07</td>\n",
       "      <td>2.31</td>\n",
       "      <td>barato</td>\n",
       "      <td>Good</td>\n",
       "      <td>E</td>\n",
       "      <td>...</td>\n",
       "      <td>0</td>\n",
       "      <td>0</td>\n",
       "      <td>0</td>\n",
       "      <td>0</td>\n",
       "      <td>0</td>\n",
       "      <td>0</td>\n",
       "      <td>1</td>\n",
       "      <td>0</td>\n",
       "      <td>0</td>\n",
       "      <td>0</td>\n",
       "    </tr>\n",
       "    <tr>\n",
       "      <th>4</th>\n",
       "      <td>0.29</td>\n",
       "      <td>62.4</td>\n",
       "      <td>58.0</td>\n",
       "      <td>334</td>\n",
       "      <td>4.20</td>\n",
       "      <td>4.23</td>\n",
       "      <td>2.63</td>\n",
       "      <td>barato</td>\n",
       "      <td>Premium</td>\n",
       "      <td>I</td>\n",
       "      <td>...</td>\n",
       "      <td>0</td>\n",
       "      <td>1</td>\n",
       "      <td>0</td>\n",
       "      <td>0</td>\n",
       "      <td>0</td>\n",
       "      <td>0</td>\n",
       "      <td>0</td>\n",
       "      <td>1</td>\n",
       "      <td>0</td>\n",
       "      <td>0</td>\n",
       "    </tr>\n",
       "    <tr>\n",
       "      <th>5</th>\n",
       "      <td>0.31</td>\n",
       "      <td>63.3</td>\n",
       "      <td>58.0</td>\n",
       "      <td>335</td>\n",
       "      <td>4.34</td>\n",
       "      <td>4.35</td>\n",
       "      <td>2.75</td>\n",
       "      <td>barato</td>\n",
       "      <td>Good</td>\n",
       "      <td>J</td>\n",
       "      <td>...</td>\n",
       "      <td>0</td>\n",
       "      <td>0</td>\n",
       "      <td>1</td>\n",
       "      <td>0</td>\n",
       "      <td>0</td>\n",
       "      <td>1</td>\n",
       "      <td>0</td>\n",
       "      <td>0</td>\n",
       "      <td>0</td>\n",
       "      <td>0</td>\n",
       "    </tr>\n",
       "  </tbody>\n",
       "</table>\n",
       "<p>5 rows × 28 columns</p>\n",
       "</div>"
      ],
      "text/plain": [
       "   carat  depth  table  price     x     y     z price_cat      cut color  ...  \\\n",
       "1   0.23   61.5   55.0    326  3.95  3.98  2.43    barato    Ideal     E  ...   \n",
       "2   0.21   59.8   61.0    326  3.89  3.84  2.31    barato  Premium     E  ...   \n",
       "3   0.23   56.9   65.0    327  4.05  4.07  2.31    barato     Good     E  ...   \n",
       "4   0.29   62.4   58.0    334  4.20  4.23  2.63    barato  Premium     I  ...   \n",
       "5   0.31   63.3   58.0    335  4.34  4.35  2.75    barato     Good     J  ...   \n",
       "\n",
       "  col_H  col_I  col_J  clar_IF  clar_SI1  clar_SI2  clar_VS1  clar_VS2  \\\n",
       "1     0      0      0        0         0         1         0         0   \n",
       "2     0      0      0        0         1         0         0         0   \n",
       "3     0      0      0        0         0         0         1         0   \n",
       "4     0      1      0        0         0         0         0         1   \n",
       "5     0      0      1        0         0         1         0         0   \n",
       "\n",
       "   clar_VVS1  clar_VVS2  \n",
       "1          0          0  \n",
       "2          0          0  \n",
       "3          0          0  \n",
       "4          0          0  \n",
       "5          0          0  \n",
       "\n",
       "[5 rows x 28 columns]"
      ]
     },
     "execution_count": 11,
     "metadata": {},
     "output_type": "execute_result"
    }
   ],
   "source": [
    "d_cut = pd.get_dummies(df[\"cut\"], drop_first=True, prefix=\"cut\")\n",
    "d_color = pd.get_dummies(df[\"color\"], drop_first=True, prefix=\"col\")\n",
    "d_clarity = pd.get_dummies(df[\"clarity\"], drop_first=True, prefix=\"clar\")\n",
    "df = pd.concat([df,d_cut,d_color,d_clarity], axis=1)\n",
    "df.head()"
   ]
  },
  {
   "cell_type": "code",
   "execution_count": 12,
   "id": "c8e57699",
   "metadata": {},
   "outputs": [
    {
     "name": "stdout",
     "output_type": "stream",
     "text": [
      "<class 'pandas.core.frame.DataFrame'>\n",
      "Int64Index: 53940 entries, 1 to 53940\n",
      "Data columns (total 28 columns):\n",
      " #   Column         Non-Null Count  Dtype   \n",
      "---  ------         --------------  -----   \n",
      " 0   carat          53940 non-null  float64 \n",
      " 1   depth          53940 non-null  float64 \n",
      " 2   table          53940 non-null  float64 \n",
      " 3   price          53940 non-null  int64   \n",
      " 4   x              53940 non-null  float64 \n",
      " 5   y              53940 non-null  float64 \n",
      " 6   z              53940 non-null  float64 \n",
      " 7   price_cat      53940 non-null  category\n",
      " 8   cut            53940 non-null  category\n",
      " 9   color          53940 non-null  category\n",
      " 10  clarity        53940 non-null  category\n",
      " 11  cut_Good       53940 non-null  uint8   \n",
      " 12  cut_Ideal      53940 non-null  uint8   \n",
      " 13  cut_Premium    53940 non-null  uint8   \n",
      " 14  cut_Very Good  53940 non-null  uint8   \n",
      " 15  col_E          53940 non-null  uint8   \n",
      " 16  col_F          53940 non-null  uint8   \n",
      " 17  col_G          53940 non-null  uint8   \n",
      " 18  col_H          53940 non-null  uint8   \n",
      " 19  col_I          53940 non-null  uint8   \n",
      " 20  col_J          53940 non-null  uint8   \n",
      " 21  clar_IF        53940 non-null  uint8   \n",
      " 22  clar_SI1       53940 non-null  uint8   \n",
      " 23  clar_SI2       53940 non-null  uint8   \n",
      " 24  clar_VS1       53940 non-null  uint8   \n",
      " 25  clar_VS2       53940 non-null  uint8   \n",
      " 26  clar_VVS1      53940 non-null  uint8   \n",
      " 27  clar_VVS2      53940 non-null  uint8   \n",
      "dtypes: category(4), float64(6), int64(1), uint8(17)\n",
      "memory usage: 4.4 MB\n"
     ]
    }
   ],
   "source": [
    "df.info()"
   ]
  },
  {
   "cell_type": "markdown",
   "id": "22cecfa7",
   "metadata": {},
   "source": [
    "A continuación haremos la división de nuestros datos, usaremos el 80% como datos de entrenamiento y el 20% como datos de testeo, usaremos `random_state=2022`."
   ]
  },
  {
   "cell_type": "code",
   "execution_count": 13,
   "id": "e2a7a657",
   "metadata": {},
   "outputs": [],
   "source": [
    "train, test = train_test_split(df, test_size = 0.2, random_state=2022)"
   ]
  },
  {
   "cell_type": "code",
   "execution_count": 14,
   "id": "1d367d97",
   "metadata": {},
   "outputs": [
    {
     "name": "stdout",
     "output_type": "stream",
     "text": [
      "Datos de entrenamiento: 43152\n",
      "Datos de testing: 10788\n"
     ]
    }
   ],
   "source": [
    "print(\"Datos de entrenamiento:\", len(train))\n",
    "print(\"Datos de testing:\", len(test))"
   ]
  },
  {
   "cell_type": "markdown",
   "id": "3a7b526e",
   "metadata": {},
   "source": [
    "## 1. Predecir el precio de los diamantes como una nueva variable continua. "
   ]
  },
  {
   "cell_type": "markdown",
   "id": "18c54f3f",
   "metadata": {},
   "source": [
    "*Nota: En el paso anterior hemos separado nuestras observaciones de entrenamiento y nuestras observaciones de testeo sin especificar nuestras variables predictores y nuestra variable dependiente, porque serán diferentes para cada ejercicio y las determinaremos en cada ejercicio de forma independiente.* \n",
    "\n",
    "En el primer ejercicio, nuestra variable dependiente es `price`, respecto a nuestras variables predictoras, usamos todas las variables excepto las que tenemos de tipo categóricas, e incluímos aquellas que hemos transformado a dummies."
   ]
  },
  {
   "cell_type": "code",
   "execution_count": 15,
   "id": "27f29035",
   "metadata": {},
   "outputs": [],
   "source": [
    "X1_train = train.drop([\"price\", \"cut\",\"color\", \"clarity\",\"price_cat\"], axis=1)\n",
    "y1_train = train[\"price\"]\n",
    "X1_test = test.drop([\"price\",\"cut\",\"color\", \"clarity\",\"price_cat\"], axis=1)\n",
    "y1_test = test[\"price\"]"
   ]
  },
  {
   "cell_type": "markdown",
   "id": "5339d022",
   "metadata": {},
   "source": [
    "### Regresión Lineal"
   ]
  },
  {
   "cell_type": "code",
   "execution_count": 16,
   "id": "951017bd",
   "metadata": {},
   "outputs": [
    {
     "name": "stdout",
     "output_type": "stream",
     "text": [
      "Score:  0.9226434561013334\n",
      "mse: 1252548.317745659\n",
      "rmse: 1119.1730508485537\n",
      "[ 1.11489743e+04 -6.12574520e+01 -2.54925721e+01 -9.62243527e+02\n",
      "  2.31838936e+00 -5.05671212e+01  5.60955597e+02  8.16138109e+02\n",
      "  7.44387383e+02  7.08156610e+02 -2.08053444e+02 -2.69209977e+02\n",
      " -4.77141899e+02 -9.88159504e+02 -1.45011949e+03 -2.37311420e+03\n",
      "  5.29097185e+03  3.59353007e+03  2.64493072e+03  4.51884236e+03\n",
      "  4.20701995e+03  4.93936759e+03  4.89016875e+03]\n"
     ]
    }
   ],
   "source": [
    "linear = LinearRegression()\n",
    "linear.fit(X1_train, y1_train)\n",
    "y_pred = linear.predict(X1_test)\n",
    "mse = mean_squared_error(y1_test, y_pred)\n",
    "rmse = mean_squared_error(y1_test, y_pred, squared=False)\n",
    "score = linear.score(X1_test, y1_test)\n",
    "print(\"Score: \", score) #R^2\n",
    "print(\"mse:\", mse) #Mead Square Error\n",
    "print(\"rmse:\", rmse) #Root Mean Square Error\n",
    "print(linear.coef_)"
   ]
  },
  {
   "cell_type": "markdown",
   "id": "0a80bfcb",
   "metadata": {},
   "source": [
    "### Regresión Lasso\n",
    "\n",
    "En este apartado, hacemos la selección de la mejor $\\alpha$ y posteriormente con esta obtenemos los coeficientes del modelo y especificamos su score."
   ]
  },
  {
   "cell_type": "code",
   "execution_count": 17,
   "id": "79376526",
   "metadata": {},
   "outputs": [
    {
     "name": "stdout",
     "output_type": "stream",
     "text": [
      "(0.9226434556846586, 1e-06)\n"
     ]
    },
    {
     "data": {
      "image/png": "[encoded data removed]",
      "text/plain": [
       "<Figure size 432x288 with 1 Axes>"
      ]
     },
     "metadata": {},
     "output_type": "display_data"
    }
   ],
   "source": [
    "alphas = np.logspace(-6, 6, 100)\n",
    "\n",
    "scores = []\n",
    "best = (0,0)\n",
    "for alpha in alphas:\n",
    "    lasso = Lasso(alpha=alpha)\n",
    "    lasso.fit(X1_train, y1_train);\n",
    "    sc = lasso.score(X1_test, y1_test)\n",
    "    scores.append(sc)\n",
    "    if sc > best[0]:\n",
    "        best = sc, alpha\n",
    "        print(best) #Muestra el mejor score junto a la mejor alpha.\n",
    "    \n",
    "plt.plot(alphas, scores)\n",
    "plt.xscale(\"log\")\n",
    "plt.show()"
   ]
  },
  {
   "cell_type": "code",
   "execution_count": 19,
   "id": "87551cb7",
   "metadata": {},
   "outputs": [
    {
     "name": "stdout",
     "output_type": "stream",
     "text": [
      "Score:  0.9226434556846586\n",
      "mse: 1252548.3244924108\n",
      "rmse: 1119.1730538627219\n",
      "[ 1.11489742e+04 -6.12574595e+01 -2.54925753e+01 -9.62243465e+02\n",
      "  2.31836981e+00 -5.05670970e+01  5.60955495e+02  8.16138008e+02\n",
      "  7.44387282e+02  7.08156516e+02 -2.08053391e+02 -2.69209924e+02\n",
      " -4.77141842e+02 -9.88159445e+02 -1.45011942e+03 -2.37311411e+03\n",
      "  5.29097131e+03  3.59352956e+03  2.64493022e+03  4.51884184e+03\n",
      "  4.20701943e+03  4.93936706e+03  4.89016823e+03]\n"
     ]
    }
   ],
   "source": [
    "lasso = Lasso(alpha= best[1])\n",
    "lasso.fit(X1_train, y1_train)\n",
    "y_pred = lasso.predict(X1_test)\n",
    "mse = mean_squared_error(y1_test, y_pred)\n",
    "rmse = mean_squared_error(y1_test, y_pred, squared=False)\n",
    "score = lasso.score(X1_test, y1_test)\n",
    "print(\"Score: \", score)\n",
    "print(\"mse:\", mse) #Mead Square Error\n",
    "print(\"rmse:\", rmse) #Root Mean Square Error\n",
    "print(lasso.coef_) #Obtenemos los coeficientes del modelo"
   ]
  },
  {
   "cell_type": "markdown",
   "id": "0b756ce1",
   "metadata": {},
   "source": [
    "### Regresión Ridge\n",
    "\n",
    "Repetimos el proceso anterior, selección de la mejor $\\alpha$ y obtención del score y coeficientes del modelo."
   ]
  },
  {
   "cell_type": "code",
   "execution_count": 20,
   "id": "866c412a",
   "metadata": {},
   "outputs": [
    {
     "name": "stdout",
     "output_type": "stream",
     "text": [
      "(0.9226430131441649, 0.01)\n"
     ]
    },
    {
     "data": {
      "image/png": "[encoded data removed]",
      "text/plain": [
       "<Figure size 432x288 with 1 Axes>"
      ]
     },
     "metadata": {},
     "output_type": "display_data"
    }
   ],
   "source": [
    "alphas = np.logspace(-2, 10, 100)\n",
    "\n",
    "scores = []\n",
    "best = (0,0)\n",
    "\n",
    "for a in alphas:\n",
    "    ridge = Ridge(alpha=a)\n",
    "    ridge.fit(X1_train, y1_train)\n",
    "    sc = ridge.score(X1_test, y1_test)\n",
    "    scores.append(sc)\n",
    "    \n",
    "    if sc > best[0]:\n",
    "        best = sc, a\n",
    "        print(best)\n",
    "    \n",
    "plt.plot(alphas,scores);\n",
    "plt.xscale(\"log\")\n",
    "plt.show()"
   ]
  },
  {
   "cell_type": "code",
   "execution_count": 21,
   "id": "cf76b411",
   "metadata": {},
   "outputs": [
    {
     "name": "stdout",
     "output_type": "stream",
     "text": [
      "Score:  0.9226430131441649\n",
      "mse: 1252555.490057507\n",
      "rmse: 1119.1762551347786\n",
      "[ 1.11486876e+04 -6.12558991e+01 -2.54932253e+01 -9.62140022e+02\n",
      "  2.32210774e+00 -5.05659881e+01  5.60986056e+02  8.16173603e+02\n",
      "  7.44420338e+02  7.08194866e+02 -2.08043115e+02 -2.69199618e+02\n",
      " -4.77126132e+02 -9.88141358e+02 -1.45009060e+03 -2.37307162e+03\n",
      "  5.29039814e+03  3.59299316e+03  2.64440484e+03  4.51829861e+03\n",
      "  4.20648213e+03  4.93881608e+03  4.88962206e+03]\n"
     ]
    }
   ],
   "source": [
    "ridge = Ridge(alpha=best[1])\n",
    "ridge.fit(X1_train, y1_train)\n",
    "y_pred = ridge.predict(X1_test)\n",
    "mse = mean_squared_error(y1_test, y_pred)\n",
    "rmse = mean_squared_error(y1_test, y_pred, squared=False)\n",
    "score = ridge.score(X1_test, y1_test)\n",
    "print(\"Score: \", score)\n",
    "print(\"mse:\", mse) #Mead Square Error\n",
    "print(\"rmse:\", rmse) #Root Mean Square Error\n",
    "print(ridge.coef_)"
   ]
  },
  {
   "cell_type": "markdown",
   "id": "d69acf24",
   "metadata": {},
   "source": [
    "### Elastic Net Regression"
   ]
  },
  {
   "cell_type": "code",
   "execution_count": 21,
   "id": "59e2835f",
   "metadata": {},
   "outputs": [
    {
     "name": "stdout",
     "output_type": "stream",
     "text": [
      "{'alpha': 0.75, 'l1_ratio': 1}\n"
     ]
    }
   ],
   "source": [
    "param_grid = { \"alpha\": [0.01, 0.25, 0.5, 0.75, 1],\n",
    "              \"l1_ratio\": [0.01, 0.25, 0.5, 0.75, 1]}\n",
    "\n",
    "grid = GridSearchCV(ElasticNet(), param_grid)\n",
    "#elastic = ElasticNet(alpha=1.0, l1_ratio=0.5)\n",
    "grid.fit(X1_train, y1_train)\n",
    "print(grid.best_params_)"
   ]
  },
  {
   "cell_type": "code",
   "execution_count": 22,
   "id": "18b7534d",
   "metadata": {},
   "outputs": [
    {
     "name": "stdout",
     "output_type": "stream",
     "text": [
      "Score:  0.9221869642221823\n",
      "[11022.4565741    -66.58770374   -27.91223266  -925.76415973\n",
      "    -0.           -35.40843366   483.18257182   739.14175637\n",
      "   667.93136307   635.67601312  -168.22756973  -229.59823384\n",
      "  -434.12382706  -943.85299591 -1397.34359022 -2310.38796935\n",
      "  4880.68867219  3213.3017073   2268.33793586  4130.74178447\n",
      "  3824.83981776  4543.85880714  4500.15882701]\n"
     ]
    }
   ],
   "source": [
    "elastic = ElasticNet(alpha=0.75, l1_ratio=1)\n",
    "elastic.fit(X1_train, y1_train)\n",
    "score = elastic.score(X1_test, y1_test)\n",
    "print(\"Score: \", score)\n",
    "print(elastic.coef_)"
   ]
  },
  {
   "cell_type": "markdown",
   "id": "50d89e5e",
   "metadata": {},
   "source": [
    "### Regresión Polinómica"
   ]
  },
  {
   "cell_type": "code",
   "execution_count": 29,
   "id": "6aee4dbb",
   "metadata": {},
   "outputs": [
    {
     "name": "stdout",
     "output_type": "stream",
     "text": [
      "mse: 457563.41331246175\n",
      "rmse: 676.4343377686127\n",
      "R2: 0.9717411905258599\n"
     ]
    }
   ],
   "source": [
    "polynomial_features = PolynomialFeatures(2)\n",
    "polynomial_train = polynomial_features.fit_transform(X1_train)\n",
    "polynomial_test = polynomial_features.transform(X1_test)\n",
    "\n",
    "linear_regression = LinearRegression()\n",
    "linear_regression.fit(polynomial_train, y1_train)\n",
    "\n",
    "y_pred = linear_regression.predict(polynomial_test)\n",
    "\n",
    "mse = mean_squared_error(y1_test, y_pred)\n",
    "rmse = np.sqrt(mse)\n",
    "score = linear_regression.score(polynomial_test,y1_test)\n",
    "\n",
    "print(\"mse:\", mse) #Mead Square Error\n",
    "print(\"rmse:\", rmse) #Root Mean Square Error\n",
    "print(\"R2:\", score) #Coeficiente de Determinación"
   ]
  },
  {
   "cell_type": "markdown",
   "id": "b9dacc8a",
   "metadata": {},
   "source": [
    "En este primer punto hemos intentado usar el contenido aprendido en la asignatura para la predicción de variables continuas (Regresión): la aplicación de diferentes modelos (Regresión Lineal, Ridge, Lasso, Elastic Net Regression y la regresión polinómica), el uso de bucles y el uso del `grid search` para optimizar nuestros resultados y hemos usado diferentes métricas para la evaluación de estos modelos:\n",
    "\n",
    "    - Coeficiente de determinación. (más cerca a 1, mejor)\n",
    "    - Mean Square Error (Se busca minimizar)\n",
    "    - Root Mean Square Error (Se busca minimizar)\n",
    " "
   ]
  },
  {
   "cell_type": "markdown",
   "id": "ef76850e",
   "metadata": {},
   "source": [
    "##  2. Predecir el precio de los diamantes en 4 categorías: barato, normal, caro, muy caro."
   ]
  },
  {
   "cell_type": "code",
   "execution_count": 23,
   "id": "28a5bf8b",
   "metadata": {},
   "outputs": [
    {
     "data": {
      "text/plain": [
       "<AxesSubplot:ylabel='Frequency'>"
      ]
     },
     "execution_count": 23,
     "metadata": {},
     "output_type": "execute_result"
    },
    {
     "data": {
      "image/png": "[encoded data removed]",
      "text/plain": [
       "<Figure size 432x288 with 1 Axes>"
      ]
     },
     "metadata": {},
     "output_type": "display_data"
    }
   ],
   "source": [
    "df.price.plot.hist(grid=True, bins=40, rwidth=0.8, color=\"#d52675\")"
   ]
  },
  {
   "cell_type": "markdown",
   "id": "8e9146d6",
   "metadata": {},
   "source": [
    "Para realizar la clasificación hemos visualizado la distribución del precio de los diamantes y hemos tenido en cuenta los cuartiles que visualizamos al inicio de la tarea, la clasificación que se realizó en el apartado de análisis exploratorio es la siguiente: \n",
    "\n",
    "    - Barato: desde 0 hasta 1000.\n",
    "    - Normal: desde 1001 hasta 2500.\n",
    "    - Caro: desde 2501 hasta 5500.\n",
    "    - Muy caro: desde 5501 en adelante. \n",
    "    \n",
    "En este apartado, la variable dependiente es `price_cat`, esta varible representa la variable `price`, así que por esta razón eliminamos esta última (tiene la misma información). De las variables predictoras, usaremos todas excepto aquellas que hemos mantenido como variables de tipo 'category' que igualmente están representadas por las variables dummies. "
   ]
  },
  {
   "cell_type": "code",
   "execution_count": 24,
   "id": "b4729fa2",
   "metadata": {},
   "outputs": [],
   "source": [
    "X2_train = train.drop([\"price\", \"cut\",\"color\", \"clarity\",\"price_cat\"], axis=1)\n",
    "y2_train = train[\"price_cat\"]\n",
    "X2_test = test.drop([\"price\",\"cut\",\"color\", \"clarity\",\"price_cat\"], axis=1)\n",
    "y2_test = test[\"price_cat\"]"
   ]
  },
  {
   "cell_type": "markdown",
   "id": "2b4b7c77",
   "metadata": {},
   "source": [
    "### SVM"
   ]
  },
  {
   "cell_type": "code",
   "execution_count": 26,
   "id": "e714f3fe",
   "metadata": {},
   "outputs": [
    {
     "name": "stdout",
     "output_type": "stream",
     "text": [
      "{'C': 100, 'gamma': 0.01, 'kernel': 'rbf', 'random_state': 2022}\n",
      "              precision    recall  f1-score   support\n",
      "\n",
      "      barato       0.94      0.96      0.95      2921\n",
      "        caro       0.91      0.91      0.91      2646\n",
      "    muy caro       0.96      0.95      0.95      2602\n",
      "      normal       0.91      0.88      0.90      2619\n",
      "\n",
      "    accuracy                           0.93     10788\n",
      "   macro avg       0.93      0.93      0.93     10788\n",
      "weighted avg       0.93      0.93      0.93     10788\n",
      "\n"
     ]
    }
   ],
   "source": [
    "param_grid = {\"C\":[0.1, 1, 10, 100],  \n",
    "              'gamma': [1, 0.01, 0.0001],\n",
    "              'kernel': ['linear','rbf'],\n",
    "             \"random_state\":[2022]}\n",
    "\n",
    "svm = GridSearchCV(SVC(), param_grid)\n",
    "svm.fit(X2_train, y2_train)\n",
    "print(svm.best_params_)\n",
    "svm_pred=svm.predict(X2_test)\n",
    "print(classification_report(y2_test, svm_pred))"
   ]
  },
  {
   "cell_type": "markdown",
   "id": "35ae1e45",
   "metadata": {},
   "source": [
    "### Árboles de clasificación"
   ]
  },
  {
   "cell_type": "code",
   "execution_count": 27,
   "id": "81b7af54",
   "metadata": {},
   "outputs": [
    {
     "name": "stdout",
     "output_type": "stream",
     "text": [
      "{'criterion': 'entropy', 'max_depth': 20, 'min_samples_split': 50, 'random_state': 2022}\n",
      "              precision    recall  f1-score   support\n",
      "\n",
      "      barato       0.94      0.95      0.94      2921\n",
      "        caro       0.89      0.89      0.89      2646\n",
      "    muy caro       0.95      0.94      0.94      2602\n",
      "      normal       0.88      0.88      0.88      2619\n",
      "\n",
      "    accuracy                           0.91     10788\n",
      "   macro avg       0.91      0.91      0.91     10788\n",
      "weighted avg       0.91      0.91      0.91     10788\n",
      "\n"
     ]
    }
   ],
   "source": [
    "param_grid = { \"criterion\": [\"entropy\", \"gini\"],\n",
    "              \"min_samples_split\": [50, 75, 100],\n",
    "             \"max_depth\": [20, 40, 60],\n",
    "             \"random_state\":[2022]}\n",
    "\n",
    "tree = GridSearchCV(DecisionTreeClassifier(), param_grid)\n",
    "tree.fit(X2_train, y2_train)\n",
    "print(tree.best_params_)\n",
    "tree_pred = tree.predict(X2_test)\n",
    "print(classification_report(y2_test, tree_pred))"
   ]
  },
  {
   "cell_type": "markdown",
   "id": "5838d8d8",
   "metadata": {},
   "source": [
    "### Bosques aleatorios de decisión"
   ]
  },
  {
   "cell_type": "code",
   "execution_count": 28,
   "id": "61c13f31",
   "metadata": {},
   "outputs": [
    {
     "name": "stdout",
     "output_type": "stream",
     "text": [
      "{'criterion': 'entropy', 'max_depth': 20, 'min_samples_split': 50, 'random_state': 2022}\n",
      "              precision    recall  f1-score   support\n",
      "\n",
      "      barato       0.94      0.95      0.94      2921\n",
      "        caro       0.89      0.89      0.89      2646\n",
      "    muy caro       0.95      0.94      0.94      2602\n",
      "      normal       0.88      0.88      0.88      2619\n",
      "\n",
      "    accuracy                           0.91     10788\n",
      "   macro avg       0.91      0.91      0.91     10788\n",
      "weighted avg       0.91      0.91      0.91     10788\n",
      "\n"
     ]
    }
   ],
   "source": [
    "param_grid = { \"criterion\": [\"entropy\", \"gini\"],\n",
    "              \"min_samples_split\": [50, 75, 100],\n",
    "             \"max_depth\": [20, 40, 60],\n",
    "             \"random_state\":[2022]}\n",
    "\n",
    "tree = GridSearchCV(DecisionTreeClassifier(), param_grid)\n",
    "tree.fit(X2_train, y2_train)\n",
    "print(tree.best_params_)\n",
    "tree_pred = tree.predict(X2_test)\n",
    "print(classification_report(y2_test, tree_pred))"
   ]
  },
  {
   "cell_type": "markdown",
   "id": "b4fb8af0",
   "metadata": {},
   "source": [
    "### K-nearest neighbors"
   ]
  },
  {
   "cell_type": "code",
   "execution_count": 29,
   "id": "ed544dc1",
   "metadata": {},
   "outputs": [
    {
     "name": "stdout",
     "output_type": "stream",
     "text": [
      "{'n_neighbors': 15, 'p': 1}\n",
      "              precision    recall  f1-score   support\n",
      "\n",
      "      barato       0.92      0.95      0.93      2921\n",
      "        caro       0.83      0.89      0.86      2646\n",
      "    muy caro       0.94      0.91      0.92      2602\n",
      "      normal       0.88      0.82      0.85      2619\n",
      "\n",
      "    accuracy                           0.89     10788\n",
      "   macro avg       0.89      0.89      0.89     10788\n",
      "weighted avg       0.89      0.89      0.89     10788\n",
      "\n"
     ]
    }
   ],
   "source": [
    "param_grid = {\"n_neighbors\": [5, 15, 25],\n",
    "             \"p\":[1,2]}\n",
    "\n",
    "knn = GridSearchCV(KNeighborsClassifier(), param_grid)\n",
    "knn.fit(X2_train, y2_train)\n",
    "print(knn.best_params_)\n",
    "knn_pred = knn.predict(X2_test)\n",
    "print(classification_report(y2_test, knn_pred))"
   ]
  },
  {
   "cell_type": "markdown",
   "id": "6489adcf",
   "metadata": {},
   "source": [
    "## 3. Predecir el corte de los diamantes \n",
    "\n",
    "En este apartado, nuestra variable dependiente es `cut`, de nuestros datos vamos a excluir las variables dummies relacionadas con nuestra variable dependiente y las variables que tenemos de tipo 'category', además normalizaremos nuestros datos de entrenamiento, excepto las variables dummies. "
   ]
  },
  {
   "cell_type": "code",
   "execution_count": 23,
   "id": "e3afd094",
   "metadata": {},
   "outputs": [],
   "source": [
    "X3_train = train.drop([\"cut\", \"color\", \"clarity\", \"price_cat\", \"cut_Good\", \"cut_Ideal\", \"cut_Premium\", \"cut_Very Good\" ], axis=1)\n",
    "y3_train = train[\"cut\"]\n",
    "X3_test = test.drop([\"cut\",  \"color\", \"clarity\", \"price_cat\", \"cut_Good\", \"cut_Ideal\", \"cut_Premium\", \"cut_Very Good\"], axis=1)\n",
    "y3_test = test[\"cut\"]"
   ]
  },
  {
   "cell_type": "code",
   "execution_count": 24,
   "id": "b85a68bc",
   "metadata": {},
   "outputs": [
    {
     "data": {
      "text/html": [
       "<div>\n",
       "<style scoped>\n",
       "    .dataframe tbody tr th:only-of-type {\n",
       "        vertical-align: middle;\n",
       "    }\n",
       "\n",
       "    .dataframe tbody tr th {\n",
       "        vertical-align: top;\n",
       "    }\n",
       "\n",
       "    .dataframe thead th {\n",
       "        text-align: right;\n",
       "    }\n",
       "</style>\n",
       "<table border=\"1\" class=\"dataframe\">\n",
       "  <thead>\n",
       "    <tr style=\"text-align: right;\">\n",
       "      <th></th>\n",
       "      <th>carat</th>\n",
       "      <th>depth</th>\n",
       "      <th>table</th>\n",
       "      <th>price</th>\n",
       "      <th>x</th>\n",
       "      <th>y</th>\n",
       "      <th>z</th>\n",
       "    </tr>\n",
       "  </thead>\n",
       "  <tbody>\n",
       "    <tr>\n",
       "      <th>4980</th>\n",
       "      <td>0.447164</td>\n",
       "      <td>1.505994</td>\n",
       "      <td>0.239564</td>\n",
       "      <td>-0.048416</td>\n",
       "      <td>0.569404</td>\n",
       "      <td>0.500352</td>\n",
       "      <td>0.721377</td>\n",
       "    </tr>\n",
       "    <tr>\n",
       "      <th>29153</th>\n",
       "      <td>-0.903227</td>\n",
       "      <td>-0.523916</td>\n",
       "      <td>0.685750</td>\n",
       "      <td>-0.813352</td>\n",
       "      <td>-1.008766</td>\n",
       "      <td>-0.944272</td>\n",
       "      <td>-1.014529</td>\n",
       "    </tr>\n",
       "    <tr>\n",
       "      <th>19605</th>\n",
       "      <td>0.510463</td>\n",
       "      <td>-0.033938</td>\n",
       "      <td>0.239564</td>\n",
       "      <td>1.079018</td>\n",
       "      <td>0.658567</td>\n",
       "      <td>0.752726</td>\n",
       "      <td>0.693151</td>\n",
       "    </tr>\n",
       "    <tr>\n",
       "      <th>10315</th>\n",
       "      <td>0.489363</td>\n",
       "      <td>-0.033938</td>\n",
       "      <td>0.239564</td>\n",
       "      <td>0.209578</td>\n",
       "      <td>0.685315</td>\n",
       "      <td>0.639593</td>\n",
       "      <td>0.650811</td>\n",
       "    </tr>\n",
       "    <tr>\n",
       "      <th>14708</th>\n",
       "      <td>-1.050926</td>\n",
       "      <td>0.036059</td>\n",
       "      <td>1.131935</td>\n",
       "      <td>-0.835208</td>\n",
       "      <td>-1.285168</td>\n",
       "      <td>-1.231457</td>\n",
       "      <td>-1.240337</td>\n",
       "    </tr>\n",
       "  </tbody>\n",
       "</table>\n",
       "</div>"
      ],
      "text/plain": [
       "          carat     depth     table     price         x         y         z\n",
       "4980   0.447164  1.505994  0.239564 -0.048416  0.569404  0.500352  0.721377\n",
       "29153 -0.903227 -0.523916  0.685750 -0.813352 -1.008766 -0.944272 -1.014529\n",
       "19605  0.510463 -0.033938  0.239564  1.079018  0.658567  0.752726  0.693151\n",
       "10315  0.489363 -0.033938  0.239564  0.209578  0.685315  0.639593  0.650811\n",
       "14708 -1.050926  0.036059  1.131935 -0.835208 -1.285168 -1.231457 -1.240337"
      ]
     },
     "execution_count": 24,
     "metadata": {},
     "output_type": "execute_result"
    }
   ],
   "source": [
    "escalar = [\"carat\",\"depth\",\"table\",\"price\",\"x\",\"y\",\"z\"]\n",
    "\n",
    "scaler = StandardScaler()\n",
    "X3_train[escalar] = scaler.fit_transform(X3_train[escalar])\n",
    "X3_test[escalar] = scaler.fit_transform(X3_test[escalar])\n",
    "\n",
    "X3_train[escalar].head()"
   ]
  },
  {
   "cell_type": "markdown",
   "id": "9fbd22bc",
   "metadata": {},
   "source": [
    "### SVM"
   ]
  },
  {
   "cell_type": "code",
   "execution_count": null,
   "id": "2c61fbf5",
   "metadata": {},
   "outputs": [],
   "source": [
    "param_grid = {\"C\":[0.1, 1, 10, 100],  \n",
    "              'gamma': [1, 0.01, 0.0001],\n",
    "              'kernel': ['linear','rbf'],\n",
    "             \"random_state\":[2022]}\n",
    "\n",
    "svm = GridSearchCV(SVC(), param_grid)\n",
    "svm.fit(X3_train, y3_train)\n",
    "print(svm.best_params_)\n",
    "svm_pred=svm.predict(X3_test)\n",
    "print(classification_report(y3_test, svm_pred))"
   ]
  },
  {
   "cell_type": "markdown",
   "id": "50fd8764",
   "metadata": {},
   "source": [
    "*Nota: en el método anterior no he conseguido obtener los resultados porque estaba tardando, más de un día hasta que lo corté.*"
   ]
  },
  {
   "cell_type": "markdown",
   "id": "56697af9",
   "metadata": {},
   "source": [
    "### Árboles de clasificación"
   ]
  },
  {
   "cell_type": "code",
   "execution_count": 26,
   "id": "167606f4",
   "metadata": {},
   "outputs": [
    {
     "name": "stdout",
     "output_type": "stream",
     "text": [
      "{'criterion': 'gini', 'max_depth': 40, 'min_samples_split': 75, 'random_state': 2022}\n",
      "              precision    recall  f1-score   support\n",
      "\n",
      "        Fair       0.90      0.85      0.88       323\n",
      "        Good       0.41      0.69      0.52       990\n",
      "       Ideal       0.81      0.90      0.85      4333\n",
      "     Premium       0.76      0.56      0.65      2736\n",
      "   Very Good       0.57      0.48      0.52      2406\n",
      "\n",
      "    accuracy                           0.70     10788\n",
      "   macro avg       0.69      0.70      0.68     10788\n",
      "weighted avg       0.71      0.70      0.70     10788\n",
      "\n"
     ]
    }
   ],
   "source": [
    "param_grid = { \"criterion\": [\"entropy\", \"gini\"],\n",
    "              \"min_samples_split\": [50, 75, 100],\n",
    "             \"max_depth\": [20, 40, 60],\n",
    "             \"random_state\":[2022]}\n",
    "\n",
    "tree = GridSearchCV(DecisionTreeClassifier(), param_grid)\n",
    "tree.fit(X3_train, y3_train)\n",
    "print(tree.best_params_)\n",
    "tree_pred = tree.predict(X3_test)\n",
    "print(classification_report(y3_test, tree_pred))"
   ]
  },
  {
   "cell_type": "markdown",
   "id": "414703fd",
   "metadata": {},
   "source": [
    "### Bosques aleatorios de decisión"
   ]
  },
  {
   "cell_type": "code",
   "execution_count": 27,
   "id": "a4b5fe84",
   "metadata": {},
   "outputs": [
    {
     "name": "stdout",
     "output_type": "stream",
     "text": [
      "{'criterion': 'gini', 'max_depth': 30, 'n_estimators': 500, 'random_state': 2022}\n",
      "              precision    recall  f1-score   support\n",
      "\n",
      "        Fair       0.91      0.82      0.86       323\n",
      "        Good       0.76      0.66      0.71       990\n",
      "       Ideal       0.81      0.93      0.87      4333\n",
      "     Premium       0.75      0.79      0.77      2736\n",
      "   Very Good       0.64      0.49      0.55      2406\n",
      "\n",
      "    accuracy                           0.77     10788\n",
      "   macro avg       0.77      0.74      0.75     10788\n",
      "weighted avg       0.76      0.77      0.76     10788\n",
      "\n"
     ]
    }
   ],
   "source": [
    "param_grid = {\"n_estimators\":[100, 300, 500],\n",
    "            \"criterion\": [\"entropy\", \"gini\"],\n",
    "             \"max_depth\":[10, 20, 30],\n",
    "             \"random_state\":[2022]}\n",
    "\n",
    "forest = GridSearchCV(RandomForestClassifier(), param_grid)\n",
    "forest.fit(X3_train, y3_train)\n",
    "print(forest.best_params_)\n",
    "forest_pred = forest.predict(X3_test)\n",
    "print(classification_report(y3_test, forest_pred))"
   ]
  },
  {
   "cell_type": "markdown",
   "id": "07d2450a",
   "metadata": {},
   "source": [
    "### K-nearest neighbors"
   ]
  },
  {
   "cell_type": "code",
   "execution_count": 33,
   "id": "59dac56f",
   "metadata": {},
   "outputs": [
    {
     "name": "stdout",
     "output_type": "stream",
     "text": [
      "{'n_neighbors': 15, 'p': 2}\n",
      "[[ 187  105    5    9   17]\n",
      " [  18  406   66  189  311]\n",
      " [   2    4 4008  215  104]\n",
      " [   0   16  419 2050  251]\n",
      " [   1  169  809  893  534]]\n",
      "              precision    recall  f1-score   support\n",
      "\n",
      "        Fair       0.90      0.58      0.70       323\n",
      "        Good       0.58      0.41      0.48       990\n",
      "       Ideal       0.76      0.92      0.83      4333\n",
      "     Premium       0.61      0.75      0.67      2736\n",
      "   Very Good       0.44      0.22      0.29      2406\n",
      "\n",
      "    accuracy                           0.67     10788\n",
      "   macro avg       0.66      0.58      0.60     10788\n",
      "weighted avg       0.64      0.67      0.64     10788\n",
      "\n"
     ]
    }
   ],
   "source": [
    "param_grid = {\"n_neighbors\": [5, 15, 25],\n",
    "             \"p\":[1,2]}\n",
    "\n",
    "knn = GridSearchCV(KNeighborsClassifier(), param_grid)\n",
    "knn.fit(X3_train, y3_train)\n",
    "print(knn.best_params_)\n",
    "knn_pred = knn.predict(X3_test)\n",
    "cm = confusion_matrix(y3_test, knn_pred) #Matriz de confusión\n",
    "print(cm)\n",
    "print(classification_report(y3_test, knn_pred))"
   ]
  },
  {
   "cell_type": "markdown",
   "id": "28485b79",
   "metadata": {},
   "source": [
    "En los ejerciciós dos y tres hemos clasificado usando diferentes métodos (SVM, árbol de clasificación, bosques aleatorios para la clasificación y k-nearest neighbors), hemos implementado el `grid_search` para optimizar nuestros modelos y como resumen de los resultados hemos usado el `classification_report`, en el último método hemos añadido `confusion_matrix`, como método alternativo de evaluación.\n",
    "\n",
    "En el caso de la matriz de confusión podemos observar, por ejemplo, en la última fila nos muestra en la última columna los aciertos y de la primera a la cuarta las veces que se ha clasificado mal, podemos observar que hay muchos errores entre las clasificaciones 'Ideal', 'Premium' y 'Very Good', esto nos puede llevar a pensar que podríamos crear una mejor partición al pasar de la variable continua 'price' a 'price_cat'.  \n",
    "\n",
    "Finalmente, entre todos los resultados que nos muestra el `classification _report`, nos tenemos que fijar en el número mayor del 'weighted avg'/'f1-score' para seleccionar nuestro mejor modelo."
   ]
  }
 ],
 "metadata": {
  "kernelspec": {
   "display_name": "Python 3",
   "language": "python",
   "name": "python3"
  },
  "language_info": {
   "codemirror_mode": {
    "name": "ipython",
    "version": 3
   },
   "file_extension": ".py",
   "mimetype": "text/x-python",
   "name": "python",
   "nbconvert_exporter": "python",
   "pygments_lexer": "ipython3",
   "version": "3.8.10"
  }
 },
 "nbformat": 4,
 "nbformat_minor": 5
}
